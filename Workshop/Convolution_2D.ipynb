{
  "nbformat": 4,
  "nbformat_minor": 0,
  "metadata": {
    "colab": {
      "provenance": []
    },
    "kernelspec": {
      "name": "python3",
      "display_name": "Python 3"
    },
    "language_info": {
      "name": "python"
    }
  },
  "cells": [
    {
      "cell_type": "code",
      "execution_count": null,
      "metadata": {
        "id": "tKEB-9OUVvgn"
      },
      "outputs": [],
      "source": [
        "import cv2\n",
        "import numpy as np\n",
        "image = np.array ([[1,0,2,1,0],\n",
        "                   [0,2,3,0,1],\n",
        "                   [1,0,1,1,0],\n",
        "                   [0,2,2,0,3],\n",
        "                   [0,4,1,2,0]])\n",
        "image = image /5.0"
      ]
    },
    {
      "cell_type": "code",
      "source": [
        "kernel1 = np.array([[-1,0,1],\n",
        "                    [-1,0,1],\n",
        "                    [-1,0,1]])"
      ],
      "metadata": {
        "id": "7cytzIeeX156"
      },
      "execution_count": null,
      "outputs": []
    },
    {
      "cell_type": "code",
      "source": [
        "im2 = cv2.filter2D(src=image, ddepth=-1, kernel=kernel1)"
      ],
      "metadata": {
        "id": "40qjsb3pYROC"
      },
      "execution_count": null,
      "outputs": []
    },
    {
      "cell_type": "code",
      "source": [
        "im2_int = (im2 * 5).astype('int')\n",
        "im2_int"
      ],
      "metadata": {
        "id": "J9mY7wdfYyCS",
        "colab": {
          "base_uri": "https://localhost:8080/"
        },
        "outputId": "709e9b0a-3162-4ff8-f350-949b9fd1c1c6"
      },
      "execution_count": null,
      "outputs": [
        {
          "output_type": "execute_result",
          "data": {
            "text/plain": [
              "array([[ 0,  7, -3, -6,  0],\n",
              "       [ 0,  4,  0, -5,  0],\n",
              "       [ 0,  5, -3, -2,  0],\n",
              "       [ 0,  3, -3, -1,  0],\n",
              "       [ 0,  5, -6,  0,  0]])"
            ]
          },
          "metadata": {},
          "execution_count": 8
        }
      ]
    }
  ]
}