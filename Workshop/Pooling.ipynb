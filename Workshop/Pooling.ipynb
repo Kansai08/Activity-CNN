{
  "nbformat": 4,
  "nbformat_minor": 0,
  "metadata": {
    "colab": {
      "provenance": []
    },
    "kernelspec": {
      "name": "python3",
      "display_name": "Python 3"
    },
    "language_info": {
      "name": "python"
    }
  },
  "cells": [
    {
      "cell_type": "code",
      "execution_count": null,
      "metadata": {
        "id": "_Ee5LDFKZguP"
      },
      "outputs": [],
      "source": [
        "import numpy as np\n",
        "from tensorflow.keras.models import Sequential\n",
        "from tensorflow.keras.layers import MaxPool2D, AveragePooling2D"
      ]
    },
    {
      "cell_type": "markdown",
      "source": [
        "MaxPooling"
      ],
      "metadata": {
        "id": "x4PaMZC8yF-E"
      }
    },
    {
      "cell_type": "code",
      "source": [
        "image = np.array([[2,3,4,2],\n",
        "                  [8,5,5,1],\n",
        "                  [6,7,9,4],\n",
        "                  [3,1,4,5]])"
      ],
      "metadata": {
        "id": "_88WY-QuZ9WN"
      },
      "execution_count": null,
      "outputs": []
    },
    {
      "cell_type": "code",
      "source": [
        "arr = image.reshape(1,4,4,1)"
      ],
      "metadata": {
        "id": "Brny86U3ai98"
      },
      "execution_count": null,
      "outputs": []
    },
    {
      "cell_type": "code",
      "source": [
        "model = Sequential()\n",
        "model.add(MaxPool2D(pool_size=(3,3), input_shape=(4,4,1)))\n",
        "output = model.predict(arr)\n",
        "output = np.squeeze(output)"
      ],
      "metadata": {
        "colab": {
          "base_uri": "https://localhost:8080/"
        },
        "id": "c2CC__xlapOS",
        "outputId": "c35c4cde-bcf1-440b-f423-763ff65fd26c"
      },
      "execution_count": null,
      "outputs": [
        {
          "output_type": "stream",
          "name": "stdout",
          "text": [
            "1/1 [==============================] - 0s 53ms/step\n"
          ]
        }
      ]
    },
    {
      "cell_type": "code",
      "source": [
        "print(output)"
      ],
      "metadata": {
        "colab": {
          "base_uri": "https://localhost:8080/"
        },
        "id": "6YJxpo-y496e",
        "outputId": "a241d106-90f7-49e1-813e-1211e5e31e8d"
      },
      "execution_count": null,
      "outputs": [
        {
          "output_type": "stream",
          "name": "stdout",
          "text": [
            "9.0\n"
          ]
        }
      ]
    },
    {
      "cell_type": "markdown",
      "source": [
        "AveragePooling"
      ],
      "metadata": {
        "id": "z3jymyMob4dA"
      }
    },
    {
      "cell_type": "code",
      "source": [
        "image = np.array([[2,3,4,2],\n",
        "                  [8,5,5,1],\n",
        "                  [6,7,9,4],\n",
        "                  [3,1,4,5]])"
      ],
      "metadata": {
        "id": "JfkwMxT7b81N"
      },
      "execution_count": null,
      "outputs": []
    },
    {
      "cell_type": "code",
      "source": [
        "arr = image.reshape(1,4,4,1).astype('float32')"
      ],
      "metadata": {
        "id": "j0vL_ouLcGDw"
      },
      "execution_count": null,
      "outputs": []
    },
    {
      "cell_type": "code",
      "source": [
        "model = Sequential()\n",
        "model.add(AveragePooling2D(pool_size=(3,3)))\n",
        "output = model.predict(arr)\n",
        "output = np.squeeze(output)"
      ],
      "metadata": {
        "colab": {
          "base_uri": "https://localhost:8080/"
        },
        "id": "jMV4h6gOcL4D",
        "outputId": "89a68bef-3851-449c-868c-057bb10a1242"
      },
      "execution_count": null,
      "outputs": [
        {
          "output_type": "stream",
          "name": "stdout",
          "text": [
            "1/1 [==============================] - 0s 68ms/step\n"
          ]
        }
      ]
    },
    {
      "cell_type": "code",
      "source": [
        "print(output)"
      ],
      "metadata": {
        "colab": {
          "base_uri": "https://localhost:8080/"
        },
        "id": "Zn9rwMoccU92",
        "outputId": "cfd81aba-7ecc-4e3e-d61d-8d32f5b17edb"
      },
      "execution_count": null,
      "outputs": [
        {
          "output_type": "stream",
          "name": "stdout",
          "text": [
            "5.4444447\n"
          ]
        }
      ]
    }
  ]
}